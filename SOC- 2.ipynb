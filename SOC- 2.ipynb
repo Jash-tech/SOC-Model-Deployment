{
 "cells": [
  {
   "cell_type": "code",
   "execution_count": 1,
   "id": "5d95deef",
   "metadata": {},
   "outputs": [],
   "source": [
    "#Importing Libraries"
   ]
  },
  {
   "cell_type": "code",
   "execution_count": 2,
   "id": "41d30315",
   "metadata": {},
   "outputs": [],
   "source": [
    "import pandas as pd\n",
    "import numpy as np\n",
    "import matplotlib.pyplot as plt\n",
    "import seaborn as sns\n",
    "%matplotlib inline"
   ]
  },
  {
   "cell_type": "code",
   "execution_count": 3,
   "id": "16fa7e42",
   "metadata": {},
   "outputs": [],
   "source": [
    "# Importing Dataset"
   ]
  },
  {
   "cell_type": "code",
   "execution_count": 4,
   "id": "49418ad6",
   "metadata": {},
   "outputs": [],
   "source": [
    "df = pd.read_csv(\"test11.csv\")"
   ]
  },
  {
   "cell_type": "code",
   "execution_count": 5,
   "id": "a5eec673",
   "metadata": {},
   "outputs": [
    {
     "data": {
      "text/html": [
       "<div>\n",
       "<style scoped>\n",
       "    .dataframe tbody tr th:only-of-type {\n",
       "        vertical-align: middle;\n",
       "    }\n",
       "\n",
       "    .dataframe tbody tr th {\n",
       "        vertical-align: top;\n",
       "    }\n",
       "\n",
       "    .dataframe thead th {\n",
       "        text-align: right;\n",
       "    }\n",
       "</style>\n",
       "<table border=\"1\" class=\"dataframe\">\n",
       "  <thead>\n",
       "    <tr style=\"text-align: right;\">\n",
       "      <th></th>\n",
       "      <th>Time [s]</th>\n",
       "      <th>Velocity [km/h]</th>\n",
       "      <th>Elevation [m]</th>\n",
       "      <th>Throttle [%]</th>\n",
       "      <th>Motor Torque [Nm]</th>\n",
       "      <th>Longitudinal Acceleration [m/s^2]</th>\n",
       "      <th>Regenerative Braking Signal</th>\n",
       "      <th>Battery Voltage [V]</th>\n",
       "      <th>Battery Current [A]</th>\n",
       "      <th>Battery Temperature [°C]</th>\n",
       "      <th>max. Battery Temperature [°C]</th>\n",
       "      <th>SoC [%]</th>\n",
       "      <th>displayed SoC [%]</th>\n",
       "      <th>min. SoC [%]</th>\n",
       "      <th>max. SoC [%)</th>\n",
       "    </tr>\n",
       "  </thead>\n",
       "  <tbody>\n",
       "    <tr>\n",
       "      <th>0</th>\n",
       "      <td>0.0</td>\n",
       "      <td>0.0</td>\n",
       "      <td>574.0</td>\n",
       "      <td>0.0</td>\n",
       "      <td>0.0</td>\n",
       "      <td>-0.03</td>\n",
       "      <td>0.0</td>\n",
       "      <td>391.4</td>\n",
       "      <td>-2.20</td>\n",
       "      <td>21.0</td>\n",
       "      <td>22.0</td>\n",
       "      <td>86.9</td>\n",
       "      <td>100.0</td>\n",
       "      <td>8</td>\n",
       "      <td>90</td>\n",
       "    </tr>\n",
       "    <tr>\n",
       "      <th>1</th>\n",
       "      <td>0.1</td>\n",
       "      <td>0.0</td>\n",
       "      <td>574.0</td>\n",
       "      <td>0.0</td>\n",
       "      <td>0.0</td>\n",
       "      <td>0.00</td>\n",
       "      <td>0.0</td>\n",
       "      <td>391.4</td>\n",
       "      <td>-2.21</td>\n",
       "      <td>21.0</td>\n",
       "      <td>22.0</td>\n",
       "      <td>86.9</td>\n",
       "      <td>100.0</td>\n",
       "      <td>8</td>\n",
       "      <td>90</td>\n",
       "    </tr>\n",
       "    <tr>\n",
       "      <th>2</th>\n",
       "      <td>0.2</td>\n",
       "      <td>0.0</td>\n",
       "      <td>574.0</td>\n",
       "      <td>0.0</td>\n",
       "      <td>0.0</td>\n",
       "      <td>-0.01</td>\n",
       "      <td>0.0</td>\n",
       "      <td>391.4</td>\n",
       "      <td>-2.26</td>\n",
       "      <td>21.0</td>\n",
       "      <td>22.0</td>\n",
       "      <td>86.9</td>\n",
       "      <td>100.0</td>\n",
       "      <td>8</td>\n",
       "      <td>90</td>\n",
       "    </tr>\n",
       "    <tr>\n",
       "      <th>3</th>\n",
       "      <td>0.3</td>\n",
       "      <td>0.0</td>\n",
       "      <td>574.0</td>\n",
       "      <td>0.0</td>\n",
       "      <td>0.0</td>\n",
       "      <td>-0.03</td>\n",
       "      <td>0.0</td>\n",
       "      <td>391.4</td>\n",
       "      <td>-2.30</td>\n",
       "      <td>21.0</td>\n",
       "      <td>22.0</td>\n",
       "      <td>86.9</td>\n",
       "      <td>100.0</td>\n",
       "      <td>8</td>\n",
       "      <td>90</td>\n",
       "    </tr>\n",
       "    <tr>\n",
       "      <th>4</th>\n",
       "      <td>0.4</td>\n",
       "      <td>0.0</td>\n",
       "      <td>574.0</td>\n",
       "      <td>0.0</td>\n",
       "      <td>0.0</td>\n",
       "      <td>-0.03</td>\n",
       "      <td>0.0</td>\n",
       "      <td>391.4</td>\n",
       "      <td>-2.30</td>\n",
       "      <td>21.0</td>\n",
       "      <td>22.0</td>\n",
       "      <td>86.9</td>\n",
       "      <td>100.0</td>\n",
       "      <td>8</td>\n",
       "      <td>90</td>\n",
       "    </tr>\n",
       "  </tbody>\n",
       "</table>\n",
       "</div>"
      ],
      "text/plain": [
       "   Time [s]  Velocity [km/h]  Elevation [m]  Throttle [%]  Motor Torque [Nm]  \\\n",
       "0       0.0              0.0          574.0           0.0                0.0   \n",
       "1       0.1              0.0          574.0           0.0                0.0   \n",
       "2       0.2              0.0          574.0           0.0                0.0   \n",
       "3       0.3              0.0          574.0           0.0                0.0   \n",
       "4       0.4              0.0          574.0           0.0                0.0   \n",
       "\n",
       "   Longitudinal Acceleration [m/s^2]  Regenerative Braking Signal   \\\n",
       "0                              -0.03                           0.0   \n",
       "1                               0.00                           0.0   \n",
       "2                              -0.01                           0.0   \n",
       "3                              -0.03                           0.0   \n",
       "4                              -0.03                           0.0   \n",
       "\n",
       "   Battery Voltage [V]  Battery Current [A]  Battery Temperature [°C]  \\\n",
       "0                391.4                -2.20                      21.0   \n",
       "1                391.4                -2.21                      21.0   \n",
       "2                391.4                -2.26                      21.0   \n",
       "3                391.4                -2.30                      21.0   \n",
       "4                391.4                -2.30                      21.0   \n",
       "\n",
       "   max. Battery Temperature [°C]  SoC [%]  displayed SoC [%]  min. SoC [%]  \\\n",
       "0                           22.0     86.9              100.0             8   \n",
       "1                           22.0     86.9              100.0             8   \n",
       "2                           22.0     86.9              100.0             8   \n",
       "3                           22.0     86.9              100.0             8   \n",
       "4                           22.0     86.9              100.0             8   \n",
       "\n",
       "   max. SoC [%)  \n",
       "0            90  \n",
       "1            90  \n",
       "2            90  \n",
       "3            90  \n",
       "4            90  "
      ]
     },
     "execution_count": 5,
     "metadata": {},
     "output_type": "execute_result"
    }
   ],
   "source": [
    "df.head()"
   ]
  },
  {
   "cell_type": "code",
   "execution_count": 6,
   "id": "ed8ee4ef",
   "metadata": {
    "scrolled": false
   },
   "outputs": [
    {
     "name": "stdout",
     "output_type": "stream",
     "text": [
      "<class 'pandas.core.frame.DataFrame'>\n",
      "RangeIndex: 10090 entries, 0 to 10089\n",
      "Data columns (total 15 columns):\n",
      " #   Column                             Non-Null Count  Dtype  \n",
      "---  ------                             --------------  -----  \n",
      " 0   Time [s]                           10090 non-null  float64\n",
      " 1   Velocity [km/h]                    10090 non-null  float64\n",
      " 2   Elevation [m]                      10090 non-null  float64\n",
      " 3   Throttle [%]                       10090 non-null  float64\n",
      " 4   Motor Torque [Nm]                  10090 non-null  float64\n",
      " 5   Longitudinal Acceleration [m/s^2]  10090 non-null  float64\n",
      " 6   Regenerative Braking Signal        10090 non-null  float64\n",
      " 7   Battery Voltage [V]                10090 non-null  float64\n",
      " 8   Battery Current [A]                10090 non-null  float64\n",
      " 9   Battery Temperature [°C]           10090 non-null  float64\n",
      " 10  max. Battery Temperature [°C]      10090 non-null  float64\n",
      " 11  SoC [%]                            10090 non-null  float64\n",
      " 12  displayed SoC [%]                  10090 non-null  float64\n",
      " 13  min. SoC [%]                       10090 non-null  int64  \n",
      " 14  max. SoC [%)                       10090 non-null  int64  \n",
      "dtypes: float64(13), int64(2)\n",
      "memory usage: 1.2 MB\n"
     ]
    }
   ],
   "source": [
    "df.info()"
   ]
  },
  {
   "cell_type": "code",
   "execution_count": 7,
   "id": "15f8f623",
   "metadata": {
    "scrolled": false
   },
   "outputs": [
    {
     "data": {
      "text/html": [
       "<div>\n",
       "<style scoped>\n",
       "    .dataframe tbody tr th:only-of-type {\n",
       "        vertical-align: middle;\n",
       "    }\n",
       "\n",
       "    .dataframe tbody tr th {\n",
       "        vertical-align: top;\n",
       "    }\n",
       "\n",
       "    .dataframe thead th {\n",
       "        text-align: right;\n",
       "    }\n",
       "</style>\n",
       "<table border=\"1\" class=\"dataframe\">\n",
       "  <thead>\n",
       "    <tr style=\"text-align: right;\">\n",
       "      <th></th>\n",
       "      <th>Time [s]</th>\n",
       "      <th>Velocity [km/h]</th>\n",
       "      <th>Elevation [m]</th>\n",
       "      <th>Throttle [%]</th>\n",
       "      <th>Motor Torque [Nm]</th>\n",
       "      <th>Longitudinal Acceleration [m/s^2]</th>\n",
       "      <th>Regenerative Braking Signal</th>\n",
       "      <th>Battery Voltage [V]</th>\n",
       "      <th>Battery Current [A]</th>\n",
       "      <th>Battery Temperature [°C]</th>\n",
       "      <th>max. Battery Temperature [°C]</th>\n",
       "      <th>SoC [%]</th>\n",
       "      <th>displayed SoC [%]</th>\n",
       "      <th>min. SoC [%]</th>\n",
       "      <th>max. SoC [%)</th>\n",
       "    </tr>\n",
       "  </thead>\n",
       "  <tbody>\n",
       "    <tr>\n",
       "      <th>count</th>\n",
       "      <td>10090.000000</td>\n",
       "      <td>10090.000000</td>\n",
       "      <td>10090.000000</td>\n",
       "      <td>10090.000000</td>\n",
       "      <td>10090.000000</td>\n",
       "      <td>10090.000000</td>\n",
       "      <td>10090.000000</td>\n",
       "      <td>10090.000000</td>\n",
       "      <td>10090.000000</td>\n",
       "      <td>10090.000000</td>\n",
       "      <td>10090.000000</td>\n",
       "      <td>10090.000000</td>\n",
       "      <td>10090.000000</td>\n",
       "      <td>10090.0</td>\n",
       "      <td>10090.0</td>\n",
       "    </tr>\n",
       "    <tr>\n",
       "      <th>mean</th>\n",
       "      <td>504.450000</td>\n",
       "      <td>26.502170</td>\n",
       "      <td>566.791625</td>\n",
       "      <td>26.470424</td>\n",
       "      <td>8.106545</td>\n",
       "      <td>0.014246</td>\n",
       "      <td>0.118162</td>\n",
       "      <td>388.483996</td>\n",
       "      <td>-11.953476</td>\n",
       "      <td>21.940141</td>\n",
       "      <td>22.208358</td>\n",
       "      <td>84.307435</td>\n",
       "      <td>97.360479</td>\n",
       "      <td>8.0</td>\n",
       "      <td>90.0</td>\n",
       "    </tr>\n",
       "    <tr>\n",
       "      <th>std</th>\n",
       "      <td>291.287644</td>\n",
       "      <td>15.497032</td>\n",
       "      <td>5.577563</td>\n",
       "      <td>16.370510</td>\n",
       "      <td>42.123984</td>\n",
       "      <td>0.741669</td>\n",
       "      <td>0.322172</td>\n",
       "      <td>2.158318</td>\n",
       "      <td>22.799614</td>\n",
       "      <td>0.237147</td>\n",
       "      <td>0.405955</td>\n",
       "      <td>1.560409</td>\n",
       "      <td>2.024896</td>\n",
       "      <td>0.0</td>\n",
       "      <td>0.0</td>\n",
       "    </tr>\n",
       "    <tr>\n",
       "      <th>min</th>\n",
       "      <td>0.000000</td>\n",
       "      <td>0.000000</td>\n",
       "      <td>558.000000</td>\n",
       "      <td>0.000000</td>\n",
       "      <td>-87.050000</td>\n",
       "      <td>-2.290000</td>\n",
       "      <td>0.000000</td>\n",
       "      <td>380.420000</td>\n",
       "      <td>-100.700000</td>\n",
       "      <td>21.000000</td>\n",
       "      <td>22.000000</td>\n",
       "      <td>81.500000</td>\n",
       "      <td>93.500000</td>\n",
       "      <td>8.0</td>\n",
       "      <td>90.0</td>\n",
       "    </tr>\n",
       "    <tr>\n",
       "      <th>25%</th>\n",
       "      <td>252.225000</td>\n",
       "      <td>15.362500</td>\n",
       "      <td>562.090000</td>\n",
       "      <td>13.550000</td>\n",
       "      <td>-9.157500</td>\n",
       "      <td>-0.330000</td>\n",
       "      <td>0.000000</td>\n",
       "      <td>387.190000</td>\n",
       "      <td>-22.197500</td>\n",
       "      <td>22.000000</td>\n",
       "      <td>22.000000</td>\n",
       "      <td>82.900000</td>\n",
       "      <td>95.500000</td>\n",
       "      <td>8.0</td>\n",
       "      <td>90.0</td>\n",
       "    </tr>\n",
       "    <tr>\n",
       "      <th>50%</th>\n",
       "      <td>504.450000</td>\n",
       "      <td>29.550000</td>\n",
       "      <td>565.000000</td>\n",
       "      <td>31.100000</td>\n",
       "      <td>4.630000</td>\n",
       "      <td>0.020000</td>\n",
       "      <td>0.000000</td>\n",
       "      <td>388.540000</td>\n",
       "      <td>-8.570000</td>\n",
       "      <td>22.000000</td>\n",
       "      <td>22.000000</td>\n",
       "      <td>84.500000</td>\n",
       "      <td>97.500000</td>\n",
       "      <td>8.0</td>\n",
       "      <td>90.0</td>\n",
       "    </tr>\n",
       "    <tr>\n",
       "      <th>75%</th>\n",
       "      <td>756.675000</td>\n",
       "      <td>38.720000</td>\n",
       "      <td>574.000000</td>\n",
       "      <td>40.357500</td>\n",
       "      <td>23.540000</td>\n",
       "      <td>0.350000</td>\n",
       "      <td>0.000000</td>\n",
       "      <td>390.000000</td>\n",
       "      <td>-1.990000</td>\n",
       "      <td>22.000000</td>\n",
       "      <td>22.000000</td>\n",
       "      <td>85.700000</td>\n",
       "      <td>99.500000</td>\n",
       "      <td>8.0</td>\n",
       "      <td>90.0</td>\n",
       "    </tr>\n",
       "    <tr>\n",
       "      <th>max</th>\n",
       "      <td>1008.900000</td>\n",
       "      <td>53.300000</td>\n",
       "      <td>574.000000</td>\n",
       "      <td>55.900000</td>\n",
       "      <td>174.420000</td>\n",
       "      <td>2.790000</td>\n",
       "      <td>1.000000</td>\n",
       "      <td>394.470000</td>\n",
       "      <td>66.220000</td>\n",
       "      <td>22.000000</td>\n",
       "      <td>23.000000</td>\n",
       "      <td>86.900000</td>\n",
       "      <td>100.000000</td>\n",
       "      <td>8.0</td>\n",
       "      <td>90.0</td>\n",
       "    </tr>\n",
       "  </tbody>\n",
       "</table>\n",
       "</div>"
      ],
      "text/plain": [
       "           Time [s]  Velocity [km/h]  Elevation [m]  Throttle [%]  \\\n",
       "count  10090.000000     10090.000000   10090.000000  10090.000000   \n",
       "mean     504.450000        26.502170     566.791625     26.470424   \n",
       "std      291.287644        15.497032       5.577563     16.370510   \n",
       "min        0.000000         0.000000     558.000000      0.000000   \n",
       "25%      252.225000        15.362500     562.090000     13.550000   \n",
       "50%      504.450000        29.550000     565.000000     31.100000   \n",
       "75%      756.675000        38.720000     574.000000     40.357500   \n",
       "max     1008.900000        53.300000     574.000000     55.900000   \n",
       "\n",
       "       Motor Torque [Nm]  Longitudinal Acceleration [m/s^2]  \\\n",
       "count       10090.000000                       10090.000000   \n",
       "mean            8.106545                           0.014246   \n",
       "std            42.123984                           0.741669   \n",
       "min           -87.050000                          -2.290000   \n",
       "25%            -9.157500                          -0.330000   \n",
       "50%             4.630000                           0.020000   \n",
       "75%            23.540000                           0.350000   \n",
       "max           174.420000                           2.790000   \n",
       "\n",
       "       Regenerative Braking Signal   Battery Voltage [V]  Battery Current [A]  \\\n",
       "count                  10090.000000         10090.000000         10090.000000   \n",
       "mean                       0.118162           388.483996           -11.953476   \n",
       "std                        0.322172             2.158318            22.799614   \n",
       "min                        0.000000           380.420000          -100.700000   \n",
       "25%                        0.000000           387.190000           -22.197500   \n",
       "50%                        0.000000           388.540000            -8.570000   \n",
       "75%                        0.000000           390.000000            -1.990000   \n",
       "max                        1.000000           394.470000            66.220000   \n",
       "\n",
       "       Battery Temperature [°C]  max. Battery Temperature [°C]       SoC [%]  \\\n",
       "count              10090.000000                   10090.000000  10090.000000   \n",
       "mean                  21.940141                      22.208358     84.307435   \n",
       "std                    0.237147                       0.405955      1.560409   \n",
       "min                   21.000000                      22.000000     81.500000   \n",
       "25%                   22.000000                      22.000000     82.900000   \n",
       "50%                   22.000000                      22.000000     84.500000   \n",
       "75%                   22.000000                      22.000000     85.700000   \n",
       "max                   22.000000                      23.000000     86.900000   \n",
       "\n",
       "       displayed SoC [%]  min. SoC [%]  max. SoC [%)  \n",
       "count       10090.000000       10090.0       10090.0  \n",
       "mean           97.360479           8.0          90.0  \n",
       "std             2.024896           0.0           0.0  \n",
       "min            93.500000           8.0          90.0  \n",
       "25%            95.500000           8.0          90.0  \n",
       "50%            97.500000           8.0          90.0  \n",
       "75%            99.500000           8.0          90.0  \n",
       "max           100.000000           8.0          90.0  "
      ]
     },
     "execution_count": 7,
     "metadata": {},
     "output_type": "execute_result"
    }
   ],
   "source": [
    "df.describe()"
   ]
  },
  {
   "cell_type": "code",
   "execution_count": 8,
   "id": "b2d8a3af",
   "metadata": {},
   "outputs": [],
   "source": [
    "# Checking Missing values"
   ]
  },
  {
   "cell_type": "code",
   "execution_count": 9,
   "id": "aad83046",
   "metadata": {
    "scrolled": true
   },
   "outputs": [
    {
     "data": {
      "text/plain": [
       "Time [s]                             0\n",
       "Velocity [km/h]                      0\n",
       "Elevation [m]                        0\n",
       "Throttle [%]                         0\n",
       "Motor Torque [Nm]                    0\n",
       "Longitudinal Acceleration [m/s^2]    0\n",
       "Regenerative Braking Signal          0\n",
       "Battery Voltage [V]                  0\n",
       "Battery Current [A]                  0\n",
       "Battery Temperature [°C]             0\n",
       "max. Battery Temperature [°C]        0\n",
       "SoC [%]                              0\n",
       "displayed SoC [%]                    0\n",
       "min. SoC [%]                         0\n",
       "max. SoC [%)                         0\n",
       "dtype: int64"
      ]
     },
     "execution_count": 9,
     "metadata": {},
     "output_type": "execute_result"
    }
   ],
   "source": [
    "df.isnull().sum()"
   ]
  },
  {
   "cell_type": "code",
   "execution_count": 10,
   "id": "755f2ef2",
   "metadata": {},
   "outputs": [],
   "source": [
    "# Dropping Columns in dataset that doesnt contribute"
   ]
  },
  {
   "cell_type": "code",
   "execution_count": 11,
   "id": "b1a85ccf",
   "metadata": {},
   "outputs": [],
   "source": [
    "def drop(data,col):\n",
    "    data.drop(col,axis=1,inplace=True)\n",
    "    "
   ]
  },
  {
   "cell_type": "code",
   "execution_count": 12,
   "id": "37923811",
   "metadata": {},
   "outputs": [],
   "source": [
    "drop(df,'displayed SoC [%]')\n",
    "drop(df,'min. SoC [%]')\n",
    "drop(df,'max. SoC [%)')"
   ]
  },
  {
   "cell_type": "code",
   "execution_count": 13,
   "id": "9e15eea5",
   "metadata": {
    "scrolled": true
   },
   "outputs": [
    {
     "data": {
      "text/html": [
       "<div>\n",
       "<style scoped>\n",
       "    .dataframe tbody tr th:only-of-type {\n",
       "        vertical-align: middle;\n",
       "    }\n",
       "\n",
       "    .dataframe tbody tr th {\n",
       "        vertical-align: top;\n",
       "    }\n",
       "\n",
       "    .dataframe thead th {\n",
       "        text-align: right;\n",
       "    }\n",
       "</style>\n",
       "<table border=\"1\" class=\"dataframe\">\n",
       "  <thead>\n",
       "    <tr style=\"text-align: right;\">\n",
       "      <th></th>\n",
       "      <th>Time [s]</th>\n",
       "      <th>Velocity [km/h]</th>\n",
       "      <th>Elevation [m]</th>\n",
       "      <th>Throttle [%]</th>\n",
       "      <th>Motor Torque [Nm]</th>\n",
       "      <th>Longitudinal Acceleration [m/s^2]</th>\n",
       "      <th>Regenerative Braking Signal</th>\n",
       "      <th>Battery Voltage [V]</th>\n",
       "      <th>Battery Current [A]</th>\n",
       "      <th>Battery Temperature [°C]</th>\n",
       "      <th>max. Battery Temperature [°C]</th>\n",
       "      <th>SoC [%]</th>\n",
       "    </tr>\n",
       "  </thead>\n",
       "  <tbody>\n",
       "    <tr>\n",
       "      <th>0</th>\n",
       "      <td>0.0</td>\n",
       "      <td>0.0</td>\n",
       "      <td>574.0</td>\n",
       "      <td>0.0</td>\n",
       "      <td>0.00</td>\n",
       "      <td>-0.03</td>\n",
       "      <td>0.0</td>\n",
       "      <td>391.4</td>\n",
       "      <td>-2.20</td>\n",
       "      <td>21.0</td>\n",
       "      <td>22.0</td>\n",
       "      <td>86.9</td>\n",
       "    </tr>\n",
       "    <tr>\n",
       "      <th>1</th>\n",
       "      <td>0.1</td>\n",
       "      <td>0.0</td>\n",
       "      <td>574.0</td>\n",
       "      <td>0.0</td>\n",
       "      <td>0.00</td>\n",
       "      <td>0.00</td>\n",
       "      <td>0.0</td>\n",
       "      <td>391.4</td>\n",
       "      <td>-2.21</td>\n",
       "      <td>21.0</td>\n",
       "      <td>22.0</td>\n",
       "      <td>86.9</td>\n",
       "    </tr>\n",
       "    <tr>\n",
       "      <th>2</th>\n",
       "      <td>0.2</td>\n",
       "      <td>0.0</td>\n",
       "      <td>574.0</td>\n",
       "      <td>0.0</td>\n",
       "      <td>0.00</td>\n",
       "      <td>-0.01</td>\n",
       "      <td>0.0</td>\n",
       "      <td>391.4</td>\n",
       "      <td>-2.26</td>\n",
       "      <td>21.0</td>\n",
       "      <td>22.0</td>\n",
       "      <td>86.9</td>\n",
       "    </tr>\n",
       "    <tr>\n",
       "      <th>3</th>\n",
       "      <td>0.3</td>\n",
       "      <td>0.0</td>\n",
       "      <td>574.0</td>\n",
       "      <td>0.0</td>\n",
       "      <td>0.00</td>\n",
       "      <td>-0.03</td>\n",
       "      <td>0.0</td>\n",
       "      <td>391.4</td>\n",
       "      <td>-2.30</td>\n",
       "      <td>21.0</td>\n",
       "      <td>22.0</td>\n",
       "      <td>86.9</td>\n",
       "    </tr>\n",
       "    <tr>\n",
       "      <th>4</th>\n",
       "      <td>0.4</td>\n",
       "      <td>0.0</td>\n",
       "      <td>574.0</td>\n",
       "      <td>0.0</td>\n",
       "      <td>0.00</td>\n",
       "      <td>-0.03</td>\n",
       "      <td>0.0</td>\n",
       "      <td>391.4</td>\n",
       "      <td>-2.30</td>\n",
       "      <td>21.0</td>\n",
       "      <td>22.0</td>\n",
       "      <td>86.9</td>\n",
       "    </tr>\n",
       "    <tr>\n",
       "      <th>5</th>\n",
       "      <td>0.5</td>\n",
       "      <td>0.0</td>\n",
       "      <td>574.0</td>\n",
       "      <td>0.0</td>\n",
       "      <td>0.00</td>\n",
       "      <td>-0.01</td>\n",
       "      <td>0.0</td>\n",
       "      <td>391.4</td>\n",
       "      <td>-2.30</td>\n",
       "      <td>21.0</td>\n",
       "      <td>22.0</td>\n",
       "      <td>86.9</td>\n",
       "    </tr>\n",
       "    <tr>\n",
       "      <th>6</th>\n",
       "      <td>0.6</td>\n",
       "      <td>0.0</td>\n",
       "      <td>574.0</td>\n",
       "      <td>0.0</td>\n",
       "      <td>0.00</td>\n",
       "      <td>-0.01</td>\n",
       "      <td>0.0</td>\n",
       "      <td>391.4</td>\n",
       "      <td>-2.30</td>\n",
       "      <td>21.0</td>\n",
       "      <td>22.0</td>\n",
       "      <td>86.9</td>\n",
       "    </tr>\n",
       "    <tr>\n",
       "      <th>7</th>\n",
       "      <td>0.7</td>\n",
       "      <td>0.0</td>\n",
       "      <td>574.0</td>\n",
       "      <td>0.0</td>\n",
       "      <td>0.00</td>\n",
       "      <td>-0.03</td>\n",
       "      <td>0.0</td>\n",
       "      <td>391.4</td>\n",
       "      <td>-2.31</td>\n",
       "      <td>21.0</td>\n",
       "      <td>22.0</td>\n",
       "      <td>86.9</td>\n",
       "    </tr>\n",
       "    <tr>\n",
       "      <th>8</th>\n",
       "      <td>0.8</td>\n",
       "      <td>0.0</td>\n",
       "      <td>574.0</td>\n",
       "      <td>0.0</td>\n",
       "      <td>0.38</td>\n",
       "      <td>-0.01</td>\n",
       "      <td>0.0</td>\n",
       "      <td>391.4</td>\n",
       "      <td>-2.36</td>\n",
       "      <td>21.0</td>\n",
       "      <td>22.0</td>\n",
       "      <td>86.9</td>\n",
       "    </tr>\n",
       "    <tr>\n",
       "      <th>9</th>\n",
       "      <td>0.9</td>\n",
       "      <td>0.0</td>\n",
       "      <td>574.0</td>\n",
       "      <td>0.0</td>\n",
       "      <td>0.12</td>\n",
       "      <td>-0.01</td>\n",
       "      <td>0.0</td>\n",
       "      <td>391.4</td>\n",
       "      <td>-2.37</td>\n",
       "      <td>21.0</td>\n",
       "      <td>22.0</td>\n",
       "      <td>86.9</td>\n",
       "    </tr>\n",
       "  </tbody>\n",
       "</table>\n",
       "</div>"
      ],
      "text/plain": [
       "   Time [s]  Velocity [km/h]  Elevation [m]  Throttle [%]  Motor Torque [Nm]  \\\n",
       "0       0.0              0.0          574.0           0.0               0.00   \n",
       "1       0.1              0.0          574.0           0.0               0.00   \n",
       "2       0.2              0.0          574.0           0.0               0.00   \n",
       "3       0.3              0.0          574.0           0.0               0.00   \n",
       "4       0.4              0.0          574.0           0.0               0.00   \n",
       "5       0.5              0.0          574.0           0.0               0.00   \n",
       "6       0.6              0.0          574.0           0.0               0.00   \n",
       "7       0.7              0.0          574.0           0.0               0.00   \n",
       "8       0.8              0.0          574.0           0.0               0.38   \n",
       "9       0.9              0.0          574.0           0.0               0.12   \n",
       "\n",
       "   Longitudinal Acceleration [m/s^2]  Regenerative Braking Signal   \\\n",
       "0                              -0.03                           0.0   \n",
       "1                               0.00                           0.0   \n",
       "2                              -0.01                           0.0   \n",
       "3                              -0.03                           0.0   \n",
       "4                              -0.03                           0.0   \n",
       "5                              -0.01                           0.0   \n",
       "6                              -0.01                           0.0   \n",
       "7                              -0.03                           0.0   \n",
       "8                              -0.01                           0.0   \n",
       "9                              -0.01                           0.0   \n",
       "\n",
       "   Battery Voltage [V]  Battery Current [A]  Battery Temperature [°C]  \\\n",
       "0                391.4                -2.20                      21.0   \n",
       "1                391.4                -2.21                      21.0   \n",
       "2                391.4                -2.26                      21.0   \n",
       "3                391.4                -2.30                      21.0   \n",
       "4                391.4                -2.30                      21.0   \n",
       "5                391.4                -2.30                      21.0   \n",
       "6                391.4                -2.30                      21.0   \n",
       "7                391.4                -2.31                      21.0   \n",
       "8                391.4                -2.36                      21.0   \n",
       "9                391.4                -2.37                      21.0   \n",
       "\n",
       "   max. Battery Temperature [°C]  SoC [%]  \n",
       "0                           22.0     86.9  \n",
       "1                           22.0     86.9  \n",
       "2                           22.0     86.9  \n",
       "3                           22.0     86.9  \n",
       "4                           22.0     86.9  \n",
       "5                           22.0     86.9  \n",
       "6                           22.0     86.9  \n",
       "7                           22.0     86.9  \n",
       "8                           22.0     86.9  \n",
       "9                           22.0     86.9  "
      ]
     },
     "execution_count": 13,
     "metadata": {},
     "output_type": "execute_result"
    }
   ],
   "source": [
    "df.head(10)"
   ]
  },
  {
   "cell_type": "code",
   "execution_count": 14,
   "id": "6cc78b09",
   "metadata": {
    "scrolled": true
   },
   "outputs": [
    {
     "data": {
      "text/plain": [
       "Index(['Time [s]', 'Velocity [km/h]', 'Elevation [m]', 'Throttle [%]',\n",
       "       'Motor Torque [Nm]', 'Longitudinal Acceleration [m/s^2]',\n",
       "       'Regenerative Braking Signal ', 'Battery Voltage [V]',\n",
       "       'Battery Current [A]', 'Battery Temperature [°C]',\n",
       "       'max. Battery Temperature [°C]', 'SoC [%]'],\n",
       "      dtype='object')"
      ]
     },
     "execution_count": 14,
     "metadata": {},
     "output_type": "execute_result"
    }
   ],
   "source": [
    "df.columns"
   ]
  },
  {
   "cell_type": "code",
   "execution_count": 15,
   "id": "991d3992",
   "metadata": {},
   "outputs": [],
   "source": [
    "# checking data type of features"
   ]
  },
  {
   "cell_type": "code",
   "execution_count": 16,
   "id": "4fad8085",
   "metadata": {
    "scrolled": true
   },
   "outputs": [
    {
     "data": {
      "text/plain": [
       "['Time [s]',\n",
       " 'Velocity [km/h]',\n",
       " 'Elevation [m]',\n",
       " 'Throttle [%]',\n",
       " 'Motor Torque [Nm]',\n",
       " 'Longitudinal Acceleration [m/s^2]',\n",
       " 'Regenerative Braking Signal ',\n",
       " 'Battery Voltage [V]',\n",
       " 'Battery Current [A]',\n",
       " 'Battery Temperature [°C]',\n",
       " 'max. Battery Temperature [°C]',\n",
       " 'SoC [%]']"
      ]
     },
     "execution_count": 16,
     "metadata": {},
     "output_type": "execute_result"
    }
   ],
   "source": [
    "num=[i for i in df.columns if df[i].dtype!='O']\n",
    "num"
   ]
  },
  {
   "cell_type": "code",
   "execution_count": 17,
   "id": "633a1d3e",
   "metadata": {},
   "outputs": [
    {
     "data": {
      "text/plain": [
       "['Time [s]',\n",
       " 'Velocity [km/h]',\n",
       " 'Elevation [m]',\n",
       " 'Throttle [%]',\n",
       " 'Motor Torque [Nm]',\n",
       " 'Longitudinal Acceleration [m/s^2]',\n",
       " 'Regenerative Braking Signal ',\n",
       " 'Battery Voltage [V]',\n",
       " 'Battery Current [A]',\n",
       " 'Battery Temperature [°C]',\n",
       " 'max. Battery Temperature [°C]']"
      ]
     },
     "execution_count": 17,
     "metadata": {},
     "output_type": "execute_result"
    }
   ],
   "source": [
    "num_d=num[:-1]\n",
    "num_d"
   ]
  },
  {
   "cell_type": "code",
   "execution_count": 18,
   "id": "1867d965",
   "metadata": {},
   "outputs": [],
   "source": [
    "# Checking The Co-relation of Ind. features with dependent one."
   ]
  },
  {
   "cell_type": "code",
   "execution_count": 19,
   "id": "f4acfbf6",
   "metadata": {},
   "outputs": [
    {
     "data": {
      "image/png": "[encoded data removed]",
      "text/plain": [
       "<Figure size 1152x576 with 2 Axes>"
      ]
     },
     "metadata": {
      "needs_background": "light"
     },
     "output_type": "display_data"
    }
   ],
   "source": [
    "plt.figure(figsize=(16,8))\n",
    "\n",
    "sns.heatmap(df.corr(), annot=True)\n",
    "\n",
    "plt.show()\n",
    "    \n"
   ]
  },
  {
   "cell_type": "markdown",
   "id": "f71f4b69",
   "metadata": {},
   "source": [
    "Observation:\n",
    "Time , Elevation , max. Battery Temperature are strongly related features with SoC of battery."
   ]
  },
  {
   "cell_type": "code",
   "execution_count": 20,
   "id": "23cbc5f1",
   "metadata": {
    "scrolled": true
   },
   "outputs": [
    {
     "data": {
      "image/png": "[encoded data removed]",
      "text/plain": [
       "<Figure size 432x288 with 1 Axes>"
      ]
     },
     "metadata": {
      "needs_background": "light"
     },
     "output_type": "display_data"
    }
   ],
   "source": [
    "sns.lineplot(x='Time [s]',y='SoC [%]',data=df)\n",
    "plt.show()"
   ]
  },
  {
   "cell_type": "code",
   "execution_count": 21,
   "id": "e027aad2",
   "metadata": {},
   "outputs": [
    {
     "data": {
      "image/png": "[encoded data removed]",
      "text/plain": [
       "<Figure size 432x288 with 1 Axes>"
      ]
     },
     "metadata": {
      "needs_background": "light"
     },
     "output_type": "display_data"
    }
   ],
   "source": [
    "sns.lineplot(x='Elevation [m]',y='SoC [%]',data=df)\n",
    "plt.show()"
   ]
  },
  {
   "cell_type": "code",
   "execution_count": 22,
   "id": "3be1484b",
   "metadata": {},
   "outputs": [],
   "source": [
    "# Outliers detection"
   ]
  },
  {
   "cell_type": "code",
   "execution_count": 23,
   "id": "55a5a065",
   "metadata": {},
   "outputs": [],
   "source": [
    "def plot(data,col):\n",
    "    \n",
    "    sns.boxplot(data[col])"
   ]
  },
  {
   "cell_type": "code",
   "execution_count": 24,
   "id": "d1f16a3c",
   "metadata": {},
   "outputs": [],
   "source": [
    "import warnings \n",
    "from warnings import filterwarnings\n",
    "filterwarnings('ignore')"
   ]
  },
  {
   "cell_type": "code",
   "execution_count": 25,
   "id": "a05b743f",
   "metadata": {
    "scrolled": false
   },
   "outputs": [
    {
     "data": {
      "image/png": "[encoded data removed]",
      "text/plain": [
       "<Figure size 432x288 with 1 Axes>"
      ]
     },
     "metadata": {
      "needs_background": "light"
     },
     "output_type": "display_data"
    },
    {
     "data": {
      "image/png": "[encoded data removed]",
      "text/plain": [
       "<Figure size 432x288 with 1 Axes>"
      ]
     },
     "metadata": {
      "needs_background": "light"
     },
     "output_type": "display_data"
    },
    {
     "data": {
      "image/png": "[encoded data removed]",
      "text/plain": [
       "<Figure size 432x288 with 1 Axes>"
      ]
     },
     "metadata": {
      "needs_background": "light"
     },
     "output_type": "display_data"
    },
    {
     "data": {
      "image/png": "[encoded data removed]",
      "text/plain": [
       "<Figure size 432x288 with 1 Axes>"
      ]
     },
     "metadata": {
      "needs_background": "light"
     },
     "output_type": "display_data"
    },
    {
     "data": {
      "image/png": "[encoded data removed]",
      "text/plain": [
       "<Figure size 432x288 with 1 Axes>"
      ]
     },
     "metadata": {
      "needs_background": "light"
     },
     "output_type": "display_data"
    },
    {
     "data": {
      "image/png": "[encoded data removed]",
      "text/plain": [
       "<Figure size 432x288 with 1 Axes>"
      ]
     },
     "metadata": {
      "needs_background": "light"
     },
     "output_type": "display_data"
    },
    {
     "data": {
      "image/png": "[encoded data removed]",
      "text/plain": [
       "<Figure size 432x288 with 1 Axes>"
      ]
     },
     "metadata": {
      "needs_background": "light"
     },
     "output_type": "display_data"
    },
    {
     "data": {
      "image/png": "[encoded data removed]",
      "text/plain": [
       "<Figure size 432x288 with 1 Axes>"
      ]
     },
     "metadata": {
      "needs_background": "light"
     },
     "output_type": "display_data"
    },
    {
     "data": {
      "image/png": "[encoded data removed]",
      "text/plain": [
       "<Figure size 432x288 with 1 Axes>"
      ]
     },
     "metadata": {
      "needs_background": "light"
     },
     "output_type": "display_data"
    },
    {
     "data": {
      "image/png": "[encoded data removed]",
      "text/plain": [
       "<Figure size 432x288 with 1 Axes>"
      ]
     },
     "metadata": {
      "needs_background": "light"
     },
     "output_type": "display_data"
    },
    {
     "data": {
      "image/png": "[encoded data removed]",
      "text/plain": [
       "<Figure size 432x288 with 1 Axes>"
      ]
     },
     "metadata": {
      "needs_background": "light"
     },
     "output_type": "display_data"
    },
    {
     "data": {
      "image/png": "[encoded data removed]",
      "text/plain": [
       "<Figure size 432x288 with 1 Axes>"
      ]
     },
     "metadata": {
      "needs_background": "light"
     },
     "output_type": "display_data"
    }
   ],
   "source": [
    "for i in df.columns:\n",
    "    plot(df,i)\n",
    "    plt.show()"
   ]
  },
  {
   "cell_type": "code",
   "execution_count": 26,
   "id": "bf87381d",
   "metadata": {},
   "outputs": [],
   "source": [
    "# separate your independent & dependent data"
   ]
  },
  {
   "cell_type": "code",
   "execution_count": 27,
   "id": "69580dee",
   "metadata": {},
   "outputs": [
    {
     "data": {
      "text/html": [
       "<div>\n",
       "<style scoped>\n",
       "    .dataframe tbody tr th:only-of-type {\n",
       "        vertical-align: middle;\n",
       "    }\n",
       "\n",
       "    .dataframe tbody tr th {\n",
       "        vertical-align: top;\n",
       "    }\n",
       "\n",
       "    .dataframe thead th {\n",
       "        text-align: right;\n",
       "    }\n",
       "</style>\n",
       "<table border=\"1\" class=\"dataframe\">\n",
       "  <thead>\n",
       "    <tr style=\"text-align: right;\">\n",
       "      <th></th>\n",
       "      <th>Time [s]</th>\n",
       "      <th>Velocity [km/h]</th>\n",
       "      <th>Elevation [m]</th>\n",
       "      <th>Throttle [%]</th>\n",
       "      <th>Motor Torque [Nm]</th>\n",
       "      <th>Longitudinal Acceleration [m/s^2]</th>\n",
       "      <th>Regenerative Braking Signal</th>\n",
       "      <th>Battery Voltage [V]</th>\n",
       "      <th>Battery Current [A]</th>\n",
       "      <th>Battery Temperature [°C]</th>\n",
       "      <th>max. Battery Temperature [°C]</th>\n",
       "    </tr>\n",
       "  </thead>\n",
       "  <tbody>\n",
       "    <tr>\n",
       "      <th>0</th>\n",
       "      <td>0.0</td>\n",
       "      <td>0.0</td>\n",
       "      <td>574.0</td>\n",
       "      <td>0.0</td>\n",
       "      <td>0.0</td>\n",
       "      <td>-0.03</td>\n",
       "      <td>0.0</td>\n",
       "      <td>391.4</td>\n",
       "      <td>-2.20</td>\n",
       "      <td>21.0</td>\n",
       "      <td>22.0</td>\n",
       "    </tr>\n",
       "    <tr>\n",
       "      <th>1</th>\n",
       "      <td>0.1</td>\n",
       "      <td>0.0</td>\n",
       "      <td>574.0</td>\n",
       "      <td>0.0</td>\n",
       "      <td>0.0</td>\n",
       "      <td>0.00</td>\n",
       "      <td>0.0</td>\n",
       "      <td>391.4</td>\n",
       "      <td>-2.21</td>\n",
       "      <td>21.0</td>\n",
       "      <td>22.0</td>\n",
       "    </tr>\n",
       "    <tr>\n",
       "      <th>2</th>\n",
       "      <td>0.2</td>\n",
       "      <td>0.0</td>\n",
       "      <td>574.0</td>\n",
       "      <td>0.0</td>\n",
       "      <td>0.0</td>\n",
       "      <td>-0.01</td>\n",
       "      <td>0.0</td>\n",
       "      <td>391.4</td>\n",
       "      <td>-2.26</td>\n",
       "      <td>21.0</td>\n",
       "      <td>22.0</td>\n",
       "    </tr>\n",
       "    <tr>\n",
       "      <th>3</th>\n",
       "      <td>0.3</td>\n",
       "      <td>0.0</td>\n",
       "      <td>574.0</td>\n",
       "      <td>0.0</td>\n",
       "      <td>0.0</td>\n",
       "      <td>-0.03</td>\n",
       "      <td>0.0</td>\n",
       "      <td>391.4</td>\n",
       "      <td>-2.30</td>\n",
       "      <td>21.0</td>\n",
       "      <td>22.0</td>\n",
       "    </tr>\n",
       "    <tr>\n",
       "      <th>4</th>\n",
       "      <td>0.4</td>\n",
       "      <td>0.0</td>\n",
       "      <td>574.0</td>\n",
       "      <td>0.0</td>\n",
       "      <td>0.0</td>\n",
       "      <td>-0.03</td>\n",
       "      <td>0.0</td>\n",
       "      <td>391.4</td>\n",
       "      <td>-2.30</td>\n",
       "      <td>21.0</td>\n",
       "      <td>22.0</td>\n",
       "    </tr>\n",
       "  </tbody>\n",
       "</table>\n",
       "</div>"
      ],
      "text/plain": [
       "   Time [s]  Velocity [km/h]  Elevation [m]  Throttle [%]  Motor Torque [Nm]  \\\n",
       "0       0.0              0.0          574.0           0.0                0.0   \n",
       "1       0.1              0.0          574.0           0.0                0.0   \n",
       "2       0.2              0.0          574.0           0.0                0.0   \n",
       "3       0.3              0.0          574.0           0.0                0.0   \n",
       "4       0.4              0.0          574.0           0.0                0.0   \n",
       "\n",
       "   Longitudinal Acceleration [m/s^2]  Regenerative Braking Signal   \\\n",
       "0                              -0.03                           0.0   \n",
       "1                               0.00                           0.0   \n",
       "2                              -0.01                           0.0   \n",
       "3                              -0.03                           0.0   \n",
       "4                              -0.03                           0.0   \n",
       "\n",
       "   Battery Voltage [V]  Battery Current [A]  Battery Temperature [°C]  \\\n",
       "0                391.4                -2.20                      21.0   \n",
       "1                391.4                -2.21                      21.0   \n",
       "2                391.4                -2.26                      21.0   \n",
       "3                391.4                -2.30                      21.0   \n",
       "4                391.4                -2.30                      21.0   \n",
       "\n",
       "   max. Battery Temperature [°C]  \n",
       "0                           22.0  \n",
       "1                           22.0  \n",
       "2                           22.0  \n",
       "3                           22.0  \n",
       "4                           22.0  "
      ]
     },
     "execution_count": 27,
     "metadata": {},
     "output_type": "execute_result"
    }
   ],
   "source": [
    "X=df.drop('SoC [%]',axis=1)\n",
    "X.head()"
   ]
  },
  {
   "cell_type": "code",
   "execution_count": 28,
   "id": "f2a9312d",
   "metadata": {},
   "outputs": [
    {
     "data": {
      "text/plain": [
       "0        86.9\n",
       "1        86.9\n",
       "2        86.9\n",
       "3        86.9\n",
       "4        86.9\n",
       "         ... \n",
       "10085    81.5\n",
       "10086    81.5\n",
       "10087    81.5\n",
       "10088    81.5\n",
       "10089    81.5\n",
       "Name: SoC [%], Length: 10090, dtype: float64"
      ]
     },
     "execution_count": 28,
     "metadata": {},
     "output_type": "execute_result"
    }
   ],
   "source": [
    "y=df['SoC [%]']\n",
    "y"
   ]
  },
  {
   "cell_type": "code",
   "execution_count": 29,
   "id": "a611d18c",
   "metadata": {},
   "outputs": [],
   "source": [
    "# Feature Selection using Information Gain"
   ]
  },
  {
   "cell_type": "code",
   "execution_count": 30,
   "id": "5d71481b",
   "metadata": {},
   "outputs": [],
   "source": [
    "from sklearn.feature_selection import mutual_info_classif"
   ]
  },
  {
   "cell_type": "code",
   "execution_count": 31,
   "id": "318e5c91",
   "metadata": {
    "scrolled": true
   },
   "outputs": [
    {
     "data": {
      "text/plain": [
       "Time [s]                             float64\n",
       "Velocity [km/h]                      float64\n",
       "Elevation [m]                        float64\n",
       "Throttle [%]                         float64\n",
       "Motor Torque [Nm]                    float64\n",
       "Longitudinal Acceleration [m/s^2]    float64\n",
       "Regenerative Braking Signal          float64\n",
       "Battery Voltage [V]                  float64\n",
       "Battery Current [A]                  float64\n",
       "Battery Temperature [°C]             float64\n",
       "max. Battery Temperature [°C]        float64\n",
       "dtype: object"
      ]
     },
     "execution_count": 31,
     "metadata": {},
     "output_type": "execute_result"
    }
   ],
   "source": [
    "X.dtypes"
   ]
  },
  {
   "cell_type": "code",
   "execution_count": 32,
   "id": "a31f7633",
   "metadata": {},
   "outputs": [],
   "source": [
    "X=X.astype('float64').astype('int')"
   ]
  },
  {
   "cell_type": "code",
   "execution_count": 33,
   "id": "a0e520d5",
   "metadata": {},
   "outputs": [],
   "source": [
    "y=y.astype('float64').astype('int')"
   ]
  },
  {
   "cell_type": "code",
   "execution_count": 34,
   "id": "3735d272",
   "metadata": {},
   "outputs": [],
   "source": [
    "m=mutual_info_classif(X,y)"
   ]
  },
  {
   "cell_type": "code",
   "execution_count": 35,
   "id": "441c45d5",
   "metadata": {},
   "outputs": [
    {
     "data": {
      "text/html": [
       "<div>\n",
       "<style scoped>\n",
       "    .dataframe tbody tr th:only-of-type {\n",
       "        vertical-align: middle;\n",
       "    }\n",
       "\n",
       "    .dataframe tbody tr th {\n",
       "        vertical-align: top;\n",
       "    }\n",
       "\n",
       "    .dataframe thead th {\n",
       "        text-align: right;\n",
       "    }\n",
       "</style>\n",
       "<table border=\"1\" class=\"dataframe\">\n",
       "  <thead>\n",
       "    <tr style=\"text-align: right;\">\n",
       "      <th></th>\n",
       "      <th>0</th>\n",
       "    </tr>\n",
       "  </thead>\n",
       "  <tbody>\n",
       "    <tr>\n",
       "      <th>Time [s]</th>\n",
       "      <td>1.746968</td>\n",
       "    </tr>\n",
       "    <tr>\n",
       "      <th>Velocity [km/h]</th>\n",
       "      <td>0.273953</td>\n",
       "    </tr>\n",
       "    <tr>\n",
       "      <th>Elevation [m]</th>\n",
       "      <td>1.122303</td>\n",
       "    </tr>\n",
       "    <tr>\n",
       "      <th>Throttle [%]</th>\n",
       "      <td>0.118515</td>\n",
       "    </tr>\n",
       "    <tr>\n",
       "      <th>Motor Torque [Nm]</th>\n",
       "      <td>0.112095</td>\n",
       "    </tr>\n",
       "    <tr>\n",
       "      <th>Longitudinal Acceleration [m/s^2]</th>\n",
       "      <td>0.010211</td>\n",
       "    </tr>\n",
       "    <tr>\n",
       "      <th>Regenerative Braking Signal</th>\n",
       "      <td>0.007728</td>\n",
       "    </tr>\n",
       "    <tr>\n",
       "      <th>Battery Voltage [V]</th>\n",
       "      <td>0.196597</td>\n",
       "    </tr>\n",
       "    <tr>\n",
       "      <th>Battery Current [A]</th>\n",
       "      <td>0.166673</td>\n",
       "    </tr>\n",
       "    <tr>\n",
       "      <th>Battery Temperature [°C]</th>\n",
       "      <td>0.125358</td>\n",
       "    </tr>\n",
       "    <tr>\n",
       "      <th>max. Battery Temperature [°C]</th>\n",
       "      <td>0.423685</td>\n",
       "    </tr>\n",
       "  </tbody>\n",
       "</table>\n",
       "</div>"
      ],
      "text/plain": [
       "                                          0\n",
       "Time [s]                           1.746968\n",
       "Velocity [km/h]                    0.273953\n",
       "Elevation [m]                      1.122303\n",
       "Throttle [%]                       0.118515\n",
       "Motor Torque [Nm]                  0.112095\n",
       "Longitudinal Acceleration [m/s^2]  0.010211\n",
       "Regenerative Braking Signal        0.007728\n",
       "Battery Voltage [V]                0.196597\n",
       "Battery Current [A]                0.166673\n",
       "Battery Temperature [°C]           0.125358\n",
       "max. Battery Temperature [°C]      0.423685"
      ]
     },
     "execution_count": 35,
     "metadata": {},
     "output_type": "execute_result"
    }
   ],
   "source": [
    "imp=pd.DataFrame(m,index=X.columns)\n",
    "imp"
   ]
  },
  {
   "cell_type": "code",
   "execution_count": 36,
   "id": "c7275f23",
   "metadata": {},
   "outputs": [
    {
     "data": {
      "text/html": [
       "<div>\n",
       "<style scoped>\n",
       "    .dataframe tbody tr th:only-of-type {\n",
       "        vertical-align: middle;\n",
       "    }\n",
       "\n",
       "    .dataframe tbody tr th {\n",
       "        vertical-align: top;\n",
       "    }\n",
       "\n",
       "    .dataframe thead th {\n",
       "        text-align: right;\n",
       "    }\n",
       "</style>\n",
       "<table border=\"1\" class=\"dataframe\">\n",
       "  <thead>\n",
       "    <tr style=\"text-align: right;\">\n",
       "      <th></th>\n",
       "      <th>importance</th>\n",
       "    </tr>\n",
       "  </thead>\n",
       "  <tbody>\n",
       "    <tr>\n",
       "      <th>Time [s]</th>\n",
       "      <td>1.746968</td>\n",
       "    </tr>\n",
       "    <tr>\n",
       "      <th>Elevation [m]</th>\n",
       "      <td>1.122303</td>\n",
       "    </tr>\n",
       "    <tr>\n",
       "      <th>max. Battery Temperature [°C]</th>\n",
       "      <td>0.423685</td>\n",
       "    </tr>\n",
       "    <tr>\n",
       "      <th>Velocity [km/h]</th>\n",
       "      <td>0.273953</td>\n",
       "    </tr>\n",
       "    <tr>\n",
       "      <th>Battery Voltage [V]</th>\n",
       "      <td>0.196597</td>\n",
       "    </tr>\n",
       "    <tr>\n",
       "      <th>Battery Current [A]</th>\n",
       "      <td>0.166673</td>\n",
       "    </tr>\n",
       "    <tr>\n",
       "      <th>Battery Temperature [°C]</th>\n",
       "      <td>0.125358</td>\n",
       "    </tr>\n",
       "    <tr>\n",
       "      <th>Throttle [%]</th>\n",
       "      <td>0.118515</td>\n",
       "    </tr>\n",
       "    <tr>\n",
       "      <th>Motor Torque [Nm]</th>\n",
       "      <td>0.112095</td>\n",
       "    </tr>\n",
       "    <tr>\n",
       "      <th>Longitudinal Acceleration [m/s^2]</th>\n",
       "      <td>0.010211</td>\n",
       "    </tr>\n",
       "    <tr>\n",
       "      <th>Regenerative Braking Signal</th>\n",
       "      <td>0.007728</td>\n",
       "    </tr>\n",
       "  </tbody>\n",
       "</table>\n",
       "</div>"
      ],
      "text/plain": [
       "                                   importance\n",
       "Time [s]                             1.746968\n",
       "Elevation [m]                        1.122303\n",
       "max. Battery Temperature [°C]        0.423685\n",
       "Velocity [km/h]                      0.273953\n",
       "Battery Voltage [V]                  0.196597\n",
       "Battery Current [A]                  0.166673\n",
       "Battery Temperature [°C]             0.125358\n",
       "Throttle [%]                         0.118515\n",
       "Motor Torque [Nm]                    0.112095\n",
       "Longitudinal Acceleration [m/s^2]    0.010211\n",
       "Regenerative Braking Signal          0.007728"
      ]
     },
     "execution_count": 36,
     "metadata": {},
     "output_type": "execute_result"
    }
   ],
   "source": [
    "imp.columns=['importance']\n",
    "imp.sort_values(by='importance',ascending=False)"
   ]
  },
  {
   "cell_type": "code",
   "execution_count": 37,
   "id": "9fab9d82",
   "metadata": {},
   "outputs": [],
   "source": [
    "drop(X,'Regenerative Braking Signal ')"
   ]
  },
  {
   "cell_type": "code",
   "execution_count": 38,
   "id": "3a41a86b",
   "metadata": {},
   "outputs": [
    {
     "data": {
      "text/html": [
       "<div>\n",
       "<style scoped>\n",
       "    .dataframe tbody tr th:only-of-type {\n",
       "        vertical-align: middle;\n",
       "    }\n",
       "\n",
       "    .dataframe tbody tr th {\n",
       "        vertical-align: top;\n",
       "    }\n",
       "\n",
       "    .dataframe thead th {\n",
       "        text-align: right;\n",
       "    }\n",
       "</style>\n",
       "<table border=\"1\" class=\"dataframe\">\n",
       "  <thead>\n",
       "    <tr style=\"text-align: right;\">\n",
       "      <th></th>\n",
       "      <th>Time [s]</th>\n",
       "      <th>Velocity [km/h]</th>\n",
       "      <th>Elevation [m]</th>\n",
       "      <th>Throttle [%]</th>\n",
       "      <th>Motor Torque [Nm]</th>\n",
       "      <th>Longitudinal Acceleration [m/s^2]</th>\n",
       "      <th>Battery Voltage [V]</th>\n",
       "      <th>Battery Current [A]</th>\n",
       "      <th>Battery Temperature [°C]</th>\n",
       "      <th>max. Battery Temperature [°C]</th>\n",
       "    </tr>\n",
       "  </thead>\n",
       "  <tbody>\n",
       "    <tr>\n",
       "      <th>0</th>\n",
       "      <td>0</td>\n",
       "      <td>0</td>\n",
       "      <td>574</td>\n",
       "      <td>0</td>\n",
       "      <td>0</td>\n",
       "      <td>0</td>\n",
       "      <td>391</td>\n",
       "      <td>-2</td>\n",
       "      <td>21</td>\n",
       "      <td>22</td>\n",
       "    </tr>\n",
       "    <tr>\n",
       "      <th>1</th>\n",
       "      <td>0</td>\n",
       "      <td>0</td>\n",
       "      <td>574</td>\n",
       "      <td>0</td>\n",
       "      <td>0</td>\n",
       "      <td>0</td>\n",
       "      <td>391</td>\n",
       "      <td>-2</td>\n",
       "      <td>21</td>\n",
       "      <td>22</td>\n",
       "    </tr>\n",
       "    <tr>\n",
       "      <th>2</th>\n",
       "      <td>0</td>\n",
       "      <td>0</td>\n",
       "      <td>574</td>\n",
       "      <td>0</td>\n",
       "      <td>0</td>\n",
       "      <td>0</td>\n",
       "      <td>391</td>\n",
       "      <td>-2</td>\n",
       "      <td>21</td>\n",
       "      <td>22</td>\n",
       "    </tr>\n",
       "    <tr>\n",
       "      <th>3</th>\n",
       "      <td>0</td>\n",
       "      <td>0</td>\n",
       "      <td>574</td>\n",
       "      <td>0</td>\n",
       "      <td>0</td>\n",
       "      <td>0</td>\n",
       "      <td>391</td>\n",
       "      <td>-2</td>\n",
       "      <td>21</td>\n",
       "      <td>22</td>\n",
       "    </tr>\n",
       "    <tr>\n",
       "      <th>4</th>\n",
       "      <td>0</td>\n",
       "      <td>0</td>\n",
       "      <td>574</td>\n",
       "      <td>0</td>\n",
       "      <td>0</td>\n",
       "      <td>0</td>\n",
       "      <td>391</td>\n",
       "      <td>-2</td>\n",
       "      <td>21</td>\n",
       "      <td>22</td>\n",
       "    </tr>\n",
       "  </tbody>\n",
       "</table>\n",
       "</div>"
      ],
      "text/plain": [
       "   Time [s]  Velocity [km/h]  Elevation [m]  Throttle [%]  Motor Torque [Nm]  \\\n",
       "0         0                0            574             0                  0   \n",
       "1         0                0            574             0                  0   \n",
       "2         0                0            574             0                  0   \n",
       "3         0                0            574             0                  0   \n",
       "4         0                0            574             0                  0   \n",
       "\n",
       "   Longitudinal Acceleration [m/s^2]  Battery Voltage [V]  \\\n",
       "0                                  0                  391   \n",
       "1                                  0                  391   \n",
       "2                                  0                  391   \n",
       "3                                  0                  391   \n",
       "4                                  0                  391   \n",
       "\n",
       "   Battery Current [A]  Battery Temperature [°C]  \\\n",
       "0                   -2                        21   \n",
       "1                   -2                        21   \n",
       "2                   -2                        21   \n",
       "3                   -2                        21   \n",
       "4                   -2                        21   \n",
       "\n",
       "   max. Battery Temperature [°C]  \n",
       "0                             22  \n",
       "1                             22  \n",
       "2                             22  \n",
       "3                             22  \n",
       "4                             22  "
      ]
     },
     "execution_count": 38,
     "metadata": {},
     "output_type": "execute_result"
    }
   ],
   "source": [
    "X.head()"
   ]
  },
  {
   "cell_type": "code",
   "execution_count": 39,
   "id": "ea88ed0e",
   "metadata": {},
   "outputs": [],
   "source": [
    "# Split dataset into train & test"
   ]
  },
  {
   "cell_type": "code",
   "execution_count": 40,
   "id": "0f57c607",
   "metadata": {},
   "outputs": [],
   "source": [
    "from sklearn.model_selection import train_test_split\n",
    "X_train,X_test,y_train,y_test=train_test_split(X,y,test_size=0.2)"
   ]
  },
  {
   "cell_type": "code",
   "execution_count": 41,
   "id": "6923df39",
   "metadata": {},
   "outputs": [],
   "source": [
    "from sklearn import metrics"
   ]
  },
  {
   "cell_type": "code",
   "execution_count": 42,
   "id": "352a7b65",
   "metadata": {},
   "outputs": [],
   "source": [
    "# Model: Random Forest"
   ]
  },
  {
   "cell_type": "code",
   "execution_count": 43,
   "id": "98246d17",
   "metadata": {},
   "outputs": [],
   "source": [
    "from sklearn.ensemble import RandomForestRegressor"
   ]
  },
  {
   "cell_type": "code",
   "execution_count": 44,
   "id": "97ecad75",
   "metadata": {},
   "outputs": [],
   "source": [
    "regressor=RandomForestRegressor()"
   ]
  },
  {
   "cell_type": "code",
   "execution_count": 45,
   "id": "dba6ec0a",
   "metadata": {},
   "outputs": [
    {
     "data": {
      "text/plain": [
       "RandomForestRegressor()"
      ]
     },
     "execution_count": 45,
     "metadata": {},
     "output_type": "execute_result"
    }
   ],
   "source": [
    "regressor.fit(X_train,y_train)"
   ]
  },
  {
   "cell_type": "code",
   "execution_count": 46,
   "id": "939cf9a8",
   "metadata": {},
   "outputs": [],
   "source": [
    "#prediction on test dataset\n",
    "\n",
    "y_pred = regressor.predict(X_test)"
   ]
  },
  {
   "cell_type": "code",
   "execution_count": 47,
   "id": "dfb3eab4",
   "metadata": {},
   "outputs": [
    {
     "name": "stdout",
     "output_type": "stream",
     "text": [
      "Predictions are[85. 81. 85. ... 86. 86. 86.]\n",
      "R2 Score :0.9998592452855002\n",
      "Mean Absolute Error : 0.0011050545094152858\n",
      "Mean Squared Error : 0.00034692765113974783\n",
      "Explain variance score = 0.9998593390255498\n"
     ]
    }
   ],
   "source": [
    "\n",
    "print('Predictions are{}'.format(y_pred))\n",
    "    \n",
    "r2=metrics.r2_score(y_test,y_pred)\n",
    "print('R2 Score :{}'.format(r2))\n",
    "    \n",
    "print('Mean Absolute Error :',metrics.mean_absolute_error(y_test,y_pred))\n",
    "print('Mean Squared Error :',metrics.mean_squared_error(y_test,y_pred))\n",
    "print(\"Explain variance score =\",metrics.explained_variance_score(y_test, y_pred))\n"
   ]
  },
  {
   "cell_type": "code",
   "execution_count": 48,
   "id": "141b329d",
   "metadata": {},
   "outputs": [],
   "source": [
    "import pickle"
   ]
  },
  {
   "cell_type": "code",
   "execution_count": 49,
   "id": "95dedf4c",
   "metadata": {},
   "outputs": [],
   "source": [
    "# Saving model to disk\n",
    "pickle.dump(regressor, open('model.pkl','wb'))"
   ]
  },
  {
   "cell_type": "code",
   "execution_count": null,
   "id": "43178b51",
   "metadata": {},
   "outputs": [],
   "source": []
  },
  {
   "cell_type": "code",
   "execution_count": 51,
   "id": "ac9db32b",
   "metadata": {},
   "outputs": [
    {
     "name": "stdout",
     "output_type": "stream",
     "text": [
      "[81.]\n"
     ]
    }
   ],
   "source": [
    "# Loading model to compare the results\n",
    "model = pickle.load(open('model.pkl','rb'))\n",
    "print(model.predict([[1008,20,564,22.43,-16.3,0.39,391,-0.3,22,23]]))"
   ]
  },
  {
   "cell_type": "code",
   "execution_count": null,
   "id": "54cb8221",
   "metadata": {},
   "outputs": [],
   "source": []
  }
 ],
 "metadata": {
  "kernelspec": {
   "display_name": "Python 3 (ipykernel)",
   "language": "python",
   "name": "python3"
  },
  "language_info": {
   "codemirror_mode": {
    "name": "ipython",
    "version": 3
   },
   "file_extension": ".py",
   "mimetype": "text/x-python",
   "name": "python",
   "nbconvert_exporter": "python",
   "pygments_lexer": "ipython3",
   "version": "3.9.7"
  }
 },
 "nbformat": 4,
 "nbformat_minor": 5
}
